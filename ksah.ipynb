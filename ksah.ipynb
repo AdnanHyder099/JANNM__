{
 "cells": [
  {
   "cell_type": "code",
   "execution_count": 2,
   "id": "7174c773",
   "metadata": {},
   "outputs": [],
   "source": [
    "#Question 11\n",
    "import numpy as np"
   ]
  },
  {
   "cell_type": "code",
   "execution_count": 14,
   "id": "dcfa36cf",
   "metadata": {},
   "outputs": [],
   "source": [
    "def matrixAddition(A,B):\n",
    "    C = np.zeros(A.shape)\n",
    "    for i in range(A.shape[0]):\n",
    "        for j in range(A.shape[1]):\n",
    "            C[i,j] = A[i,j] + B[i,j]\n",
    "    return(C)"
   ]
  },
  {
   "cell_type": "code",
   "execution_count": null,
   "id": "22685870",
   "metadata": {},
   "outputs": [],
   "source": []
  },
  {
   "cell_type": "code",
   "execution_count": null,
   "id": "7a14441a",
   "metadata": {},
   "outputs": [],
   "source": []
  }
 ],
 "metadata": {
  "kernelspec": {
   "display_name": "Python 3",
   "language": "python",
   "name": "python3"
  },
  "language_info": {
   "codemirror_mode": {
    "name": "ipython",
    "version": 3
   },
   "file_extension": ".py",
   "mimetype": "text/x-python",
   "name": "python",
   "nbconvert_exporter": "python",
   "pygments_lexer": "ipython3",
   "version": "3.8.8"
  }
 },
 "nbformat": 4,
 "nbformat_minor": 5
}
