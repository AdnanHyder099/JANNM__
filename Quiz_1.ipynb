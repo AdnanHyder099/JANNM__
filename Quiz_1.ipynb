{
 "cells": [
  {
   "cell_type": "code",
   "execution_count": 2,
   "id": "b9fa6857",
   "metadata": {},
   "outputs": [],
   "source": [
    "import numpy as np"
   ]
  },
  {
   "cell_type": "code",
   "execution_count": 3,
   "id": "bba125fb",
   "metadata": {},
   "outputs": [
    {
     "name": "stdout",
     "output_type": "stream",
     "text": [
      "[[  6   5   4   3   2   1]\n",
      " [ 12  11  10   9   8   7]\n",
      " [ 18  17  16  15  14  13]\n",
      " [ -6  -5  -4  -3  -2  -1]\n",
      " [-12 -11 -10  -9  -8  -7]\n",
      " [-18 -17 -16 -15 -14 -13]]\n"
     ]
    }
   ],
   "source": [
    "# Question 1\n",
    "# Defining the given matrix A\n",
    "A = np.array([\n",
    "  [1,2,3,4,5,6],\n",
    "  [-7,-8,-9,-10,-11,-12],\n",
    "  [13,14,15,16,17,18],\n",
    "  [-1,-2,-3,-4,-5,-6],\n",
    "  [7,8,9,10,11,12],\n",
    "  [-13,-14,-15,-16,-17,-18]\n",
    "])\n",
    "A[:,:] = A[:,-1::-1] # Accessing all the rows and their entries and setting them equal to their corresponding reverse.\n",
    "A[1::3,:] = -(A[1::3,:]) # Multiplying by negative one to row number two and five and setting them equal to corresponding rows.\n",
    "print(A)"
   ]
  },
  {
   "cell_type": "code",
   "execution_count": 4,
   "id": "e1befc32",
   "metadata": {},
   "outputs": [],
   "source": [
    "# Question 2\n",
    "def grid2D(a=-2,b=2,c=-4,d=4,n=10,m=10):\n",
    "    \n",
    "    dx = (b-a)/n\n",
    "    dy = (d-c)/m\n",
    "    x = np.array([a + i*dx for i in range(n+1)]) # creating array of x points in x direction with a space of dx\n",
    "    y = np.array([c + i*dy for i in range(m+1)]) # creating array of y points in y direction with a space of dy.\n",
    "    X = np.zeros((n+1,n+1)) # creating array for collecting x coordinates of intersection points.\n",
    "    Y = np.zeros((m+1,m+1)) # creating array for collecting y coordinates of intersection points.\n",
    "    for i in range(len(y)):\n",
    "        #X[i] = np.array([x for x in x]) # putting x-coordinates of intersecting points in X.\n",
    "        X[i] = x\n",
    "        Y[i] = y[i] * np.ones(len(x)) # putting y-coordinates of intersecting points in Y.\n",
    "    return(X,Y)"
   ]
  },
  {
   "cell_type": "code",
   "execution_count": 7,
   "id": "9a323bb1",
   "metadata": {},
   "outputs": [
    {
     "name": "stdout",
     "output_type": "stream",
     "text": [
      "[[-4.  -4.  -4.  -4.  -4.  -4.  -4.  -4.  -4.  -4.  -4. ]\n",
      " [-3.2 -3.2 -3.2 -3.2 -3.2 -3.2 -3.2 -3.2 -3.2 -3.2 -3.2]\n",
      " [-2.4 -2.4 -2.4 -2.4 -2.4 -2.4 -2.4 -2.4 -2.4 -2.4 -2.4]\n",
      " [-1.6 -1.6 -1.6 -1.6 -1.6 -1.6 -1.6 -1.6 -1.6 -1.6 -1.6]\n",
      " [-0.8 -0.8 -0.8 -0.8 -0.8 -0.8 -0.8 -0.8 -0.8 -0.8 -0.8]\n",
      " [ 0.   0.   0.   0.   0.   0.   0.   0.   0.   0.   0. ]\n",
      " [ 0.8  0.8  0.8  0.8  0.8  0.8  0.8  0.8  0.8  0.8  0.8]\n",
      " [ 1.6  1.6  1.6  1.6  1.6  1.6  1.6  1.6  1.6  1.6  1.6]\n",
      " [ 2.4  2.4  2.4  2.4  2.4  2.4  2.4  2.4  2.4  2.4  2.4]\n",
      " [ 3.2  3.2  3.2  3.2  3.2  3.2  3.2  3.2  3.2  3.2  3.2]\n",
      " [ 4.   4.   4.   4.   4.   4.   4.   4.   4.   4.   4. ]]\n"
     ]
    }
   ],
   "source": [
    "# Question 3\n",
    "# defining given finction.\n",
    "def f(x,y):\n",
    "    return(np.exp(x**2 + y**2))\n",
    "X,Y = grid2D() # setting X and Y to return values of grid2D function.\n",
    "z = f(X,Y) # evaluating function on X and Y arrays.\n",
    "print(Y)"
   ]
  },
  {
   "cell_type": "code",
   "execution_count": null,
   "id": "cc59ec8b",
   "metadata": {},
   "outputs": [],
   "source": []
  },
  {
   "cell_type": "code",
   "execution_count": null,
   "id": "2c1b1c84",
   "metadata": {},
   "outputs": [],
   "source": []
  },
  {
   "cell_type": "code",
   "execution_count": null,
   "id": "55b1d5cc",
   "metadata": {},
   "outputs": [],
   "source": []
  }
 ],
 "metadata": {
  "kernelspec": {
   "display_name": "Python 3",
   "language": "python",
   "name": "python3"
  },
  "language_info": {
   "codemirror_mode": {
    "name": "ipython",
    "version": 3
   },
   "file_extension": ".py",
   "mimetype": "text/x-python",
   "name": "python",
   "nbconvert_exporter": "python",
   "pygments_lexer": "ipython3",
   "version": "3.8.8"
  }
 },
 "nbformat": 4,
 "nbformat_minor": 5
}
