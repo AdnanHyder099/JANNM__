{
 "cells": [
  {
   "cell_type": "markdown",
   "id": "e72dd301",
   "metadata": {},
   "source": [
    "# CHAPTER 1"
   ]
  },
  {
   "cell_type": "code",
   "execution_count": 3,
   "id": "2da0bf11",
   "metadata": {},
   "outputs": [],
   "source": [
    "# skipping 1.6 find errors yourself.\n",
    "# skipping 1.7, 1.8, 1.15, 1.16, 1.17 due to same reason mentioned above.\n",
    "# skipping 1.14 because there is nothing to program."
   ]
  },
  {
   "cell_type": "code",
   "execution_count": 4,
   "id": "a28e51d1",
   "metadata": {},
   "outputs": [
    {
     "name": "stdout",
     "output_type": "stream",
     "text": [
      "2\n"
     ]
    }
   ],
   "source": [
    "# Exercise 1.1 compute 1+1 in python \n",
    "print(1+1)"
   ]
  },
  {
   "cell_type": "code",
   "execution_count": 5,
   "id": "3006768b",
   "metadata": {},
   "outputs": [
    {
     "name": "stdout",
     "output_type": "stream",
     "text": [
      "Hello, World!\n"
     ]
    }
   ],
   "source": [
    "# Exercise 1.2 Write a \"Hello, World!\" program\n",
    "print(\"Hello, World!\")"
   ]
  },
  {
   "cell_type": "code",
   "execution_count": 6,
   "id": "6fb7ee97",
   "metadata": {},
   "outputs": [
    {
     "name": "stdout",
     "output_type": "stream",
     "text": [
      "640 meters in British length unit is 25196.850393700788 inches, 2099.737532808399 feet, 699.912510936133 yards, or 0.3976775630318938 miles.\n"
     ]
    }
   ],
   "source": [
    "# Exercise 1.3 Convert from meters to British length units\n",
    "Length_m = 640 # length in meters \n",
    "Length_in = Length_m*100/2.54 # computes length in inches by multiplying meters with 100 to get length in cm and dividing it by 2.54 cm\n",
    "Length_Feet = Length_in/12 # computes length in feet by dividing length in inches by 12.\n",
    "Length_Yard = Length_Feet/3 # computes length in yards.\n",
    "British_Mile = Length_Yard/1760 # computes length in british miles.\n",
    "print(f\"{Length_m} meters in British length unit is {Length_in} inches, {Length_Feet} feet, {Length_Yard} yards, or {British_Mile} miles.\")"
   ]
  },
  {
   "cell_type": "code",
   "execution_count": 7,
   "id": "066965f0",
   "metadata": {},
   "outputs": [],
   "source": [
    "# Skipping 1.4 because of the unavailability of data."
   ]
  },
  {
   "cell_type": "code",
   "execution_count": 8,
   "id": "f34a30b4",
   "metadata": {},
   "outputs": [
    {
     "name": "stdout",
     "output_type": "stream",
     "text": [
      "Money grown after 3 years with a principle amount of 1000 euros at a rate of 5.0 % is: 1.5007501249997404\n"
     ]
    }
   ],
   "source": [
    "# Exercise 1.5 compute the growth of money in a bank.\n",
    "A = 1000\n",
    "p = 0.05\n",
    "n = 3\n",
    "Money_Grown = A*(1+p/100)**n-A # The Amount gorwn is equal to total amount after n years minus principal amount.\n",
    "print(f\"Money grown after {n} years with a principle amount of {A} euros at a rate of {p*100} % is: {Money_Grown}\")"
   ]
  },
  {
   "cell_type": "code",
   "execution_count": 9,
   "id": "58ffea9a",
   "metadata": {},
   "outputs": [
    {
     "name": "stdout",
     "output_type": "stream",
     "text": [
      "0.17603266338214976\n"
     ]
    }
   ],
   "source": [
    "# Exercise 1.9 Evaluate a guassian function\n",
    "import math as mt # importing math library to use some math functionalities.\n",
    "m = 0\n",
    "s = 2\n",
    "x = 1\n",
    "f = (1/(mt.sqrt(2*mt.pi)*s))*mt.e**(-1/2*(((x-m)/s)**2)) # implementing gaussian function formula given in the book.\n",
    "print(f)"
   ]
  },
  {
   "cell_type": "code",
   "execution_count": 10,
   "id": "403baaf1",
   "metadata": {},
   "outputs": [
    {
     "name": "stdout",
     "output_type": "stream",
     "text": [
      "656869.3247537826\n",
      "4.2183\n",
      "155718.96848346078\n"
     ]
    }
   ],
   "source": [
    "# Exercise 1.10 compute air resistance on a football. \n",
    "# Defining variables.\n",
    "Cd = 0.2\n",
    "q = 1.2\n",
    "A = mt.pi*11**2 # where 11 is the radius of football.\n",
    "m = 0.43\n",
    "g = 9.81\n",
    "V = 120 # Note compute for both values of V first by V = 120 and second by V = 10.\n",
    "# Drag force formula..\n",
    "Fd = 1/2*(Cd*q*A*V**2) \n",
    "# formula for gravity force on an object.\n",
    "Fg = m*g \n",
    "print(Fd) # prints drag force.\n",
    "print(Fg) # prints force due to gravity on an object.\n",
    "print(Fd/Fg) # prints ratio of drag force and the gravity force."
   ]
  },
  {
   "cell_type": "code",
   "execution_count": 11,
   "id": "3c098da2",
   "metadata": {},
   "outputs": [
    {
     "name": "stdout",
     "output_type": "stream",
     "text": [
      "313.09454902221637\n"
     ]
    }
   ],
   "source": [
    "# Exercise 1.12 How to cook the perfect egg.\n",
    "# Defining variables.\n",
    "M = 47 # Mass of the egg in gram.\n",
    "p = 1.038 # Density of the egg.\n",
    "c = 3.7 # Heat capacity of the egg.\n",
    "K = 5.4*10**(-3) # Thermal conductivity.\n",
    "T0 = 4 # The original temperature of the egg.\n",
    "Tw = 100 # Temperature of the boiling water in C degrees.\n",
    "Ty = 70 # \n",
    "t = (M**(2/3)*c*p**(1/3))/(K*mt.pi**2*((4*mt.pi)/3)**(2/3)) * mt.log(0.76*((T0-Tw)/(Ty-Tw))) # Implementing formula.\n",
    "print(t)"
   ]
  },
  {
   "cell_type": "code",
   "execution_count": 12,
   "id": "b27506a4",
   "metadata": {},
   "outputs": [
    {
     "name": "stdout",
     "output_type": "stream",
     "text": [
      "0.3156105797446717\n"
     ]
    }
   ],
   "source": [
    "# Exercise 1.13 Evaluate a function by a sum.\n",
    "T = 2*mt.pi\n",
    "alpha = 0.01\n",
    "t = alpha*T\n",
    "s = mt.sin((2*mt.pi*t)/T) # computing s for n = 1.\n",
    "s += 1/3*mt.sin((6*mt.pi*t)/T) # computing s for n = 2 and adding it to first term.\n",
    "s += 1/5*mt.sin((10*mt.pi*t)/T) #  computing s for n = 3 and adding it to previous two terms.\n",
    "s += 1/7*mt.sin((14*mt.pi*t)/T) # computing s for n = 4 and adding it to previous three terms.\n",
    "s *= 4/mt.pi # multiplying the sum by 4/pi.\n",
    "print(s)"
   ]
  },
  {
   "cell_type": "markdown",
   "id": "607ceaea",
   "metadata": {},
   "source": [
    "# CHAPTER 2"
   ]
  },
  {
   "cell_type": "code",
   "execution_count": 13,
   "id": "96610297",
   "metadata": {},
   "outputs": [
    {
     "name": "stdout",
     "output_type": "stream",
     "text": [
      "f(0) = -17.778\n",
      "f(10) = -12.222\n",
      "f(20) = -6.667\n",
      "f(30) = -1.111\n",
      "f(40) = 4.444\n",
      "f(50) = 10.000\n",
      "f(60) = 15.556\n",
      "f(70) = 21.111\n",
      "f(80) = 26.667\n",
      "f(90) = 32.222\n",
      "f(100) = 37.778\n"
     ]
    }
   ],
   "source": [
    "# Exercise 2.1 Make a Fahrenheit-Celsius conversion table.\n",
    "F = [] # Create a Fahrenheit list. \n",
    "C = [] # Create a Celsius list.\n",
    "for i in range(0,101,10):\n",
    "    C.append(5/9 * (i - 32))\n",
    "    F.append(i)\n",
    "    print('f(%a) = %1.3f' %(i,C[int(i/10)]))\n",
    "    #print(f\"f({i}) = {C[int(i/10)]:.3f}\")"
   ]
  },
  {
   "cell_type": "code",
   "execution_count": 14,
   "id": "ad058a72",
   "metadata": {},
   "outputs": [
    {
     "name": "stdout",
     "output_type": "stream",
     "text": [
      "1\n",
      "3\n",
      "5\n",
      "7\n",
      "9\n"
     ]
    }
   ],
   "source": [
    "# Exercise 2.2 Generate odd numbers.\n",
    "n = 10 # Setting the value of n.\n",
    "i = 0 # Setting the value of i = 0.\n",
    "while i <= n:\n",
    "    if i%2 != 0:\n",
    "        print(i)\n",
    "    else:\n",
    "        pass\n",
    "    i += 1"
   ]
  },
  {
   "cell_type": "code",
   "execution_count": 15,
   "id": "13f4b1b4",
   "metadata": {},
   "outputs": [
    {
     "data": {
      "text/plain": [
       "[1, 3, 5, 7, 9]"
      ]
     },
     "execution_count": 15,
     "metadata": {},
     "output_type": "execute_result"
    }
   ],
   "source": [
    "# Exercise 2.3 Store odd numbers in a list.\n",
    "Odd_Numbers = [] # create a list.\n",
    "n = 10 # Setting the value of n.\n",
    "i = 0 # Setting the value of i = 0.\n",
    "while i <= n:\n",
    "    if i%2 != 0:\n",
    "        Odd_Numbers.append(i)\n",
    "    else:\n",
    "        pass\n",
    "    i += 1\n",
    "Odd_Numbers"
   ]
  },
  {
   "cell_type": "code",
   "execution_count": 16,
   "id": "275fbf4c",
   "metadata": {},
   "outputs": [
    {
     "data": {
      "text/plain": [
       "[1, 3, 5, 7, 9]"
      ]
     },
     "execution_count": 16,
     "metadata": {},
     "output_type": "execute_result"
    }
   ],
   "source": [
    "# Exercise 2.4 Generate odd numbers by range function.\n",
    "n = 10 # Setting the value of n = 10.\n",
    "Odd_numbers = [] # Creating a list for storing odd numbers.\n",
    "for i in range(0,n):\n",
    "    if i%2 != 0:\n",
    "        Odd_numbers.append(i)\n",
    "    else:\n",
    "        pass\n",
    "Odd_numbers"
   ]
  },
  {
   "cell_type": "code",
   "execution_count": 17,
   "id": "2d0c85f7",
   "metadata": {},
   "outputs": [],
   "source": [
    "# Skipping 2.5. Do it with your hands"
   ]
  },
  {
   "cell_type": "code",
   "execution_count": 18,
   "id": "5357b705",
   "metadata": {},
   "outputs": [
    {
     "name": "stdout",
     "output_type": "stream",
     "text": [
      "y(0.185) = 1.685 \n",
      "y(0.371) = 3.033 \n",
      "y(0.556) = 4.044 \n",
      "y(0.741) = 4.718 \n",
      "y(0.927) = 5.055 \n",
      "y(1.112) = 5.055 \n",
      "y(1.297) = 4.718 \n",
      "y(1.483) = 4.044 \n",
      "y(1.668) = 3.033 \n",
      "y(1.853) = 1.685 \n",
      "y(2.039) = 0.000 \n"
     ]
    }
   ],
   "source": [
    "# 2.6 Make a table of values from formula 1.1\n",
    "v0 = 10 # Setting the value of v0.\n",
    "g = 9.81 # Gravitational constant.\n",
    "t = 0 # Setting value of t = 0.\n",
    "for i in range(0,11):\n",
    "    t += (2*v0/g)/11 \n",
    "    y = v0*t - 0.5*g*t**2\n",
    "    #print('f(%1.3f) = %1.3f' %(t,y))\n",
    "    print(f\"y({t:.3f}) = {y:.3f} \")"
   ]
  },
  {
   "cell_type": "code",
   "execution_count": 19,
   "id": "514c0b16",
   "metadata": {},
   "outputs": [
    {
     "name": "stdout",
     "output_type": "stream",
     "text": [
      "f(0.1) = 0.951\n",
      "f(0.2) = 1.804\n",
      "f(0.3) = 2.559\n",
      "f(0.4) = 3.215\n",
      "f(0.5) = 3.774\n",
      "f(0.6) = 4.234\n"
     ]
    }
   ],
   "source": [
    "# 2.7 Store values from formula(1.1) in a list\n",
    "v0 = 10 # Setting the value of v0.\n",
    "g = 9.81 # Gravitational constant.\n",
    "t = [i/10 for i in range(1,7)]\n",
    "y = []\n",
    "for i in t:\n",
    "    Y = v0*i - 0.5*g*i**2\n",
    "    y.append(round(Y,3))\n",
    "    print('f(%1.1f) = %1.3f' %(i,Y))\n",
    "    #print(f\"y({i:.1f}) = {Y:.1f} \")"
   ]
  },
  {
   "cell_type": "code",
   "execution_count": 20,
   "id": "56941c95",
   "metadata": {},
   "outputs": [
    {
     "name": "stdout",
     "output_type": "stream",
     "text": [
      "1\n",
      "3\n",
      "5\n",
      "7\n",
      "11\n",
      "13\n",
      "[1, 3, 5, 7, 11, 13, 17]\n"
     ]
    }
   ],
   "source": [
    "# Exercise 2.8 Work with list.\n",
    "primes = [1,3,5,7,11,13]\n",
    "for i in primes:\n",
    "    print(i)\n",
    "p = 17\n",
    "primes.append(p)\n",
    "print(primes)"
   ]
  },
  {
   "cell_type": "code",
   "execution_count": 21,
   "id": "0a0c8413",
   "metadata": {},
   "outputs": [],
   "source": [
    "prime = [2]\n",
    "check = True\n",
    "\n",
    "for i in range(3,1000):\n",
    "    for j in range(2,i):\n",
    "        if i%j == 0:\n",
    "            check = False\n",
    "    if check == True:\n",
    "        prime.append(i)\n",
    "    elif check == False:\n",
    "        check = True"
   ]
  },
  {
   "cell_type": "code",
   "execution_count": 22,
   "id": "8cd7e208",
   "metadata": {},
   "outputs": [
    {
     "name": "stdout",
     "output_type": "stream",
     "text": [
      "[2, 3, 5, 7, 11, 13, 17, 19, 23, 29, 31, 37, 41, 43, 47, 53, 59, 61, 67, 71, 73, 79, 83, 89, 97, 101, 103, 107, 109, 113, 127, 131, 137, 139, 149, 151, 157, 163, 167, 173, 179, 181, 191, 193, 197, 199, 211, 223, 227, 229, 233, 239, 241, 251, 257, 263, 269, 271, 277, 281, 283, 293, 307, 311, 313, 317, 331, 337, 347, 349, 353, 359, 367, 373, 379, 383, 389, 397, 401, 409, 419, 421, 431, 433, 439, 443, 449, 457, 461, 463, 467, 479, 487, 491, 499, 503, 509, 521, 523, 541, 547, 557, 563, 569, 571, 577, 587, 593, 599, 601, 607, 613, 617, 619, 631, 641, 643, 647, 653, 659, 661, 673, 677, 683, 691, 701, 709, 719, 727, 733, 739, 743, 751, 757, 761, 769, 773, 787, 797, 809, 811, 821, 823, 827, 829, 839, 853, 857, 859, 863, 877, 881, 883, 887, 907, 911, 919, 929, 937, 941, 947, 953, 967, 971, 977, 983, 991, 997]\n"
     ]
    }
   ],
   "source": [
    "print(prime)"
   ]
  },
  {
   "cell_type": "code",
   "execution_count": 23,
   "id": "d5508fd0",
   "metadata": {},
   "outputs": [
    {
     "name": "stdout",
     "output_type": "stream",
     "text": [
      "t = 0.1 , y = 0.951\n",
      "t = 0.2 , y = 1.804\n",
      "t = 0.3 , y = 2.559\n",
      "t = 0.4 , y = 3.215\n",
      "t = 0.5 , y = 3.774\n",
      "t = 0.6 , y = 4.234\n"
     ]
    }
   ],
   "source": [
    "# Exercise 2.11 Store data form 2.7 in a nested list.\n",
    "t1 = []\n",
    "t2 = []\n",
    "t1.append(t)\n",
    "t1.append(y)\n",
    "for i in range(0,len(t)):\n",
    "    print('t = %1.1f , y = %1.3f' %(t1[0][i],t1[1][i]))\n",
    "    t2.append([t1[0][i],t1[1][i]])\n",
    "    "
   ]
  },
  {
   "cell_type": "code",
   "execution_count": 24,
   "id": "81776f64",
   "metadata": {},
   "outputs": [
    {
     "name": "stdout",
     "output_type": "stream",
     "text": [
      "[[0.1, 0.951], [0.2, 1.804], [0.3, 2.559], [0.4, 3.215], [0.5, 3.774], [0.6, 4.234]]\n"
     ]
    }
   ],
   "source": [
    "print(t2)"
   ]
  },
  {
   "cell_type": "code",
   "execution_count": 25,
   "id": "65d7d053",
   "metadata": {},
   "outputs": [
    {
     "name": "stdout",
     "output_type": "stream",
     "text": [
      "5.187377517639621\n"
     ]
    }
   ],
   "source": [
    "# Exercise 2.12 Compute a mathematical sum.\n",
    "M = 100\n",
    "s = 0\n",
    "for i in range(1,M+1):\n",
    "    s += 1./i\n",
    "print(s)"
   ]
  },
  {
   "cell_type": "code",
   "execution_count": 26,
   "id": "c37e0a17",
   "metadata": {},
   "outputs": [
    {
     "name": "stdout",
     "output_type": "stream",
     "text": [
      "a\n",
      "['d', 'e', 'f']\n",
      "h\n",
      "d\n"
     ]
    }
   ],
   "source": [
    "# Exercise 2.15 Index a nested lists.\n",
    "q = [['a','b','c'],['d','e','f'],['g','h']]\n",
    "print(q[0][0])\n",
    "print(q[1])\n",
    "print(q[2][1])\n",
    "print(q[1][0])\n"
   ]
  },
  {
   "cell_type": "code",
   "execution_count": 27,
   "id": "bd26ec00",
   "metadata": {},
   "outputs": [
    {
     "data": {
      "text/plain": [
       "1.0"
      ]
     },
     "execution_count": 27,
     "metadata": {},
     "output_type": "execute_result"
    }
   ],
   "source": [
    "# Exercise 2.17 Compute the area of an arbitrary triangle.\n",
    "def area(vertices):\n",
    "    x1 = vertices[0][0]\n",
    "    y1 = vertices[0][1]\n",
    "    x2 = vertices[1][0]\n",
    "    y2 = vertices[1][1]\n",
    "    x3 = vertices[2][0]\n",
    "    y3 = vertices[2][1]\n",
    "    A = 0.5 * (x2*y3 - x3*y2 - x1*y3 + x3*y1 + x1*y2 - x2*y1)\n",
    "    return A\n",
    "area([[0,0],[1,0],[0,2]])"
   ]
  },
  {
   "cell_type": "code",
   "execution_count": 28,
   "id": "19425ca9",
   "metadata": {},
   "outputs": [
    {
     "data": {
      "text/plain": [
       "3.414213562373095"
      ]
     },
     "execution_count": 28,
     "metadata": {},
     "output_type": "execute_result"
    }
   ],
   "source": [
    "# Exercise 2.18 Compute length of a path\n",
    "def pathlength(x,y):\n",
    "    L = 0\n",
    "    for i in range(0,len(x)):\n",
    "        L += ((x[i]-x[i-1])**2 + (y[i]-y[i-1])**2)**0.5\n",
    "    return L\n",
    "x = [1,2,1,1]\n",
    "y = [1,1,2,1]\n",
    "pathlength(x,y)"
   ]
  },
  {
   "cell_type": "code",
   "execution_count": 51,
   "id": "513ae225",
   "metadata": {},
   "outputs": [
    {
     "name": "stdout",
     "output_type": "stream",
     "text": [
      "Actual value = 3.141593 , Calculated value = 2.938926 , Error = 0.202666\n",
      "Actual value = 3.141593 , Calculated value = 3.078181 , Error = 0.063411\n",
      "Actual value = 3.141593 , Calculated value = 3.123742 , Error = 0.017851\n",
      "Actual value = 3.141593 , Calculated value = 3.136849 , Error = 0.004743\n",
      "Actual value = 3.141593 , Calculated value = 3.140370 , Error = 0.001223\n",
      "Actual value = 3.141593 , Calculated value = 3.141282 , Error = 0.000311\n",
      "Actual value = 3.141593 , Calculated value = 3.141514 , Error = 0.000078\n",
      "Actual value = 3.141593 , Calculated value = 3.141573 , Error = 0.000020\n",
      "Actual value = 3.141593 , Calculated value = 3.141588 , Error = 0.000005\n",
      "Actual value = 3.141593 , Calculated value = 3.141591 , Error = 0.000001\n"
     ]
    }
   ],
   "source": [
    "# Exercise 2.19 Approximate pi.\n",
    "N = 0 \n",
    "error = 0\n",
    "#x_cord = []\n",
    "#y_cord = []\n",
    "for i in range(2,12):\n",
    "    N = 2**i + 1\n",
    "    x_cord = []\n",
    "    y_cord = []\n",
    "    for j in range(0,N+1):\n",
    "        x_cord.append(0.5*mt.cos((2*mt.pi*j)/N))\n",
    "        y_cord.append(0.5*mt.sin((2*mt.pi*j)/N))\n",
    "    error = mt.pi - pathlength(x_cord,y_cord)\n",
    "    print('Actual value = %f , Calculated value = %f , Error = %f' %(mt.pi,pathlength(x_cord,y_cord),error))\n",
    "    #x_cord = []\n",
    "    #y_cord = []"
   ]
  },
  {
   "cell_type": "code",
   "execution_count": 30,
   "id": "67a01f6a",
   "metadata": {},
   "outputs": [
    {
     "name": "stdout",
     "output_type": "stream",
     "text": [
      "F = 0.000 , Exact value = -17.778 , Approximation = -15.000\n",
      "F = 10.000 , Exact value = -12.222 , Approximation = -10.000\n",
      "F = 20.000 , Exact value = -6.667 , Approximation = -5.000\n",
      "F = 30.000 , Exact value = -1.111 , Approximation = 0.000\n",
      "F = 40.000 , Exact value = 4.444 , Approximation = 5.000\n",
      "F = 50.000 , Exact value = 10.000 , Approximation = 10.000\n",
      "F = 60.000 , Exact value = 15.556 , Approximation = 15.000\n",
      "F = 70.000 , Exact value = 21.111 , Approximation = 20.000\n",
      "F = 80.000 , Exact value = 26.667 , Approximation = 25.000\n",
      "F = 90.000 , Exact value = 32.222 , Approximation = 30.000\n",
      "F = 100.000 , Exact value = 37.778 , Approximation = 35.000\n"
     ]
    }
   ],
   "source": [
    "# Exercise 2.20 Write a Fahrenheit-Celsius conversion table.\n",
    "comparison = [] \n",
    "for i in range(0,101,10):\n",
    "    c = (i - 30)/2\n",
    "    C = 5/9 * (i - 32)\n",
    "    comparison.append([i,round(C,3),round(c,3)])\n",
    "for i in comparison:\n",
    "    print('F = %1.3f , Exact value = %1.3f , Approximation = %1.3f' %(i[0],i[1],i[2]))"
   ]
  },
  {
   "cell_type": "code",
   "execution_count": 31,
   "id": "abc0907c",
   "metadata": {},
   "outputs": [
    {
     "name": "stdout",
     "output_type": "stream",
     "text": [
      "[1, 100, 10000, 1000000, 100000000]\n"
     ]
    }
   ],
   "source": [
    "# Exercise 2.21 Convert nested list comprehension to nested standard loops.\n",
    "nested_list = []\n",
    "for i in range(5):\n",
    "    nested_list.append((10**i)**2)\n",
    "print(nested_list)"
   ]
  },
  {
   "cell_type": "code",
   "execution_count": 32,
   "id": "88ce84fc",
   "metadata": {},
   "outputs": [
    {
     "data": {
      "text/plain": [
       "50.0"
      ]
     },
     "execution_count": 32,
     "metadata": {},
     "output_type": "execute_result"
    }
   ],
   "source": [
    "# Exercise 2.22 Write a fahrenheit-Celsius conversion function.\n",
    "def F(C):\n",
    "    return( (9.0/5) * C + 32 )\n",
    "def C(F):\n",
    "    return( (5.0/9) * (F - 32) )\n",
    "F(C(50))"
   ]
  },
  {
   "cell_type": "code",
   "execution_count": 33,
   "id": "f92fcc57",
   "metadata": {},
   "outputs": [
    {
     "name": "stdout",
     "output_type": "stream",
     "text": [
      "Hello, world!\n",
      "Hello, world!\n",
      "Hello, world!\n"
     ]
    }
   ],
   "source": [
    "# Exercise 2.23 Write some simple functions.\n",
    "# Function 1.\n",
    "def hw1():\n",
    "    return(\"Hello, world!\")\n",
    "# Function 2.\n",
    "def hw2():\n",
    "    print(\"Hello, world!\")\n",
    "# Function 3.\n",
    "def hw3(x,y):\n",
    "    return(x + ', ' + y)\n",
    "print(hw1())\n",
    "hw2()\n",
    "print(hw3('Hello','world!'))"
   ]
  },
  {
   "cell_type": "code",
   "execution_count": 34,
   "id": "e6782368",
   "metadata": {},
   "outputs": [],
   "source": [
    "# Exercise 2.24 Write the program in exercise 2.12 as a function.\n",
    "def s(M):\n",
    "    s = 0\n",
    "    for i in range(1,M+1):\n",
    "        s += 1./i"
   ]
  },
  {
   "cell_type": "code",
   "execution_count": 35,
   "id": "cef7a46a",
   "metadata": {},
   "outputs": [
    {
     "name": "stdout",
     "output_type": "stream",
     "text": [
      "f(-5) = 0.000001\n",
      "f(-4) = 0.000134\n",
      "f(-3) = 0.004432\n",
      "f(-2) = 0.053991\n",
      "f(-1) = 0.241971\n",
      "f(0) = 0.398942\n",
      "f(1) = 0.241971\n",
      "f(2) = 0.053991\n",
      "f(3) = 0.004432\n",
      "f(4) = 0.000134\n",
      "f(5) = 0.000001\n"
     ]
    }
   ],
   "source": [
    "# Exercise 2.25 Implement a Gaussian function.\n",
    "def gauss(x, m=0, s=1):\n",
    "    return((1/(mt.sqrt(2*mt.pi)*s))*mt.e**(-1/2*(((x-m)/s)**2)))\n",
    "\n",
    "for i in range(-5,6):\n",
    "    print('f(%a) = %f' %(i,gauss(i)))"
   ]
  },
  {
   "cell_type": "code",
   "execution_count": 36,
   "id": "76c58d27",
   "metadata": {},
   "outputs": [
    {
     "data": {
      "text/plain": [
       "(1.0, -1.0)"
      ]
     },
     "execution_count": 36,
     "metadata": {},
     "output_type": "execute_result"
    }
   ],
   "source": [
    "# Exercise 2.26 Find the max and min values of a function.\n",
    "def maxmin(f, a, b, n=1000):\n",
    "    x = []\n",
    "    y = []\n",
    "    t = a\n",
    "    for i in range(0,n):\n",
    "        t += (b-a)/1000\n",
    "        x.append(t)\n",
    "        y.append(f(t))\n",
    "    return(max(y), min(y))\n",
    "\n",
    "maxmin(mt.cos,-mt.pi/2,2*mt.pi)"
   ]
  },
  {
   "cell_type": "code",
   "execution_count": 37,
   "id": "ca65ad61",
   "metadata": {},
   "outputs": [
    {
     "name": "stdout",
     "output_type": "stream",
     "text": [
      "313.09454902221637\n",
      "286.4184393380341\n"
     ]
    }
   ],
   "source": [
    "# Exercise 2.28 Make a function of the formula in Exercise 1.12\n",
    "def egg(M, T0=20, Ty=70):\n",
    "    p = 1.038 # Density of the egg.\n",
    "    c = 3.7 # Heat capacity of the egg.\n",
    "    K = 5.4*10**(-3) # Thermal conductivity.\n",
    "    Tw = 100 # Temperature of the boiling water in C degrees.\n",
    "    return((M**(2/3)*c*p**(1/3))/(K*mt.pi**2*((4*mt.pi)/3)**(2/3)) * mt.log(0.76*((T0-Tw)/(Ty-Tw))))\n",
    "\n",
    "print(egg(47,T0=4))\n",
    "print(egg(67,T0=25))"
   ]
  },
  {
   "cell_type": "code",
   "execution_count": 38,
   "id": "29ac3293",
   "metadata": {},
   "outputs": [
    {
     "name": "stdout",
     "output_type": "stream",
     "text": [
      "f'(1) = 1.000033e+00 , Error = -3.333533e-05 \n"
     ]
    }
   ],
   "source": [
    "# Exercise 2.29 Write a function for numerical differentiation.\n",
    "def diff(f, x, h=1e-6):\n",
    "    return( (f(x + h) - f(x - h)) / (2 * h) )\n",
    "\n",
    "def f(x):\n",
    "    return(mt.log(x))\n",
    "\n",
    "print(\"f'(%x) = %e , Error = %e \" %(1,diff(f,1,h=0.01),1-diff(f,1,h=0.01))) # derivative of e^x."
   ]
  },
  {
   "cell_type": "code",
   "execution_count": 39,
   "id": "0ebbadba",
   "metadata": {},
   "outputs": [
    {
     "name": "stdout",
     "output_type": "stream",
     "text": [
      "F(cos(x) dx) = 0.000000e+00 , Error = 0.000000e+00 \n"
     ]
    }
   ],
   "source": [
    "# Exercise 2.30 Write a function for numerical integration.\n",
    "def integrate(f, a, b):\n",
    "    return( ((b-a)/2) * (f(a) + f(b)) )\n",
    "def f1(x):\n",
    "    return(mt.cos(x))\n",
    "print(\"F(%s) = %e , Error = %e \" %('cos(x) dx', integrate(f1, 0, mt.pi), 0 - integrate(f1, 0, mt.pi)))"
   ]
  },
  {
   "cell_type": "code",
   "execution_count": 40,
   "id": "c8ffe67b",
   "metadata": {},
   "outputs": [
    {
     "name": "stdout",
     "output_type": "stream",
     "text": [
      "F(cos(x) dx) = 1.110223e-16 , Error = -1.110223e-16\n"
     ]
    }
   ],
   "source": [
    "# Exercise 2.31 improve the formula in exercise 2.30.\n",
    "def integrate2(f, a, b):\n",
    "    c = (a + b)/2 # Midpoint of a and b.\n",
    "    area_1 = ((c - a)/2) * (f(a) + f(c)) # Area of the first trapezoid.\n",
    "    area_2 = ((b - c)/2) * (f(c) + f(b)) # Area of the second trapezoid.\n",
    "    return(area_1 + area_2)\n",
    "def f1(x):\n",
    "    return(mt.cos(x))\n",
    "print(\"F(%s) = %e , Error = %e\" %('cos(x) dx', integrate2(f1, 0, mt.pi), 0 - integrate2(f1, 0, mt.pi)))"
   ]
  },
  {
   "cell_type": "code",
   "execution_count": 41,
   "id": "704ea99c",
   "metadata": {},
   "outputs": [],
   "source": [
    "# Exercise 2.32 Compute a polynomial via product.\n"
   ]
  },
  {
   "cell_type": "code",
   "execution_count": 42,
   "id": "048bed39",
   "metadata": {},
   "outputs": [
    {
     "name": "stdout",
     "output_type": "stream",
     "text": [
      "24\n"
     ]
    }
   ],
   "source": [
    "# Exercise 2.33 implement the factorial function.\n",
    "def f(n):\n",
    "    factorial = 1\n",
    "    if n == 0 or n == 1:\n",
    "        return(1)\n",
    "    for i in range(1,n+1):\n",
    "        factorial *= i\n",
    "    return(factorial)\n",
    "\n",
    "print(f(4))"
   ]
  },
  {
   "cell_type": "code",
   "execution_count": 43,
   "id": "165f4ae6",
   "metadata": {},
   "outputs": [
    {
     "name": "stdout",
     "output_type": "stream",
     "text": [
      "x(5.000) = 25.000000\n",
      "v(5.000) = 10.000000\n",
      "a(5.000) = 1.999965 \n"
     ]
    }
   ],
   "source": [
    "# Exercise 2.34 Compute velocity and acceleration from position data; one dimension.\n",
    "def kinematics(x, t, dt=1E-6):\n",
    "    v = (x(t + dt) - x(t - dt)) / (2*dt)\n",
    "    a = (x(t + dt) - 2*x(t) + x(t - dt)) / dt**2\n",
    "    return(x(t), v, a)\n",
    "\n",
    "def f1(t):\n",
    "    return(t**2)\n",
    "\n",
    "x, v, a = kinematics(f1, 5, dt=1E-5) \n",
    "\n",
    "print(\"x(%1.3f) = %f\\nv(%1.3f) = %f\\na(%1.3f) = %f \" %(5, x, 5, v, 5, a))"
   ]
  },
  {
   "cell_type": "code",
   "execution_count": 44,
   "id": "261a5a46",
   "metadata": {},
   "outputs": [
    {
     "name": "stdout",
     "output_type": "stream",
     "text": [
      "x(0) = (1.0, 0.0)\n",
      "v(0) = (0.0, 6.283185307138244)\n",
      "a(0) = (-39.478531554948404, 0.0)\n"
     ]
    }
   ],
   "source": [
    "# Exercise 2.35 Compute velocity and acceleration from position data; two dimension.\n",
    "def kinematics(x, y, t, dt=1E-6):\n",
    "    v = ((x(t + dt) - x(t - dt)) / (2*dt), (y(t + dt) - y(t - dt)) / (2*dt)) \n",
    "    a = ((x(t + dt) - 2*x(t) + x(t - dt)) / (dt**2), (y(t + dt) - 2*y(t) + y(t - dt)) / (dt**2))\n",
    "    return((x(t), y(t)), v, a)\n",
    "\n",
    "def x(t):\n",
    "    return(mt.cos(2*mt.pi*t))\n",
    "def y(t):\n",
    "    return(mt.sin(2*mt.pi*t))\n",
    "\n",
    "x, v, a = kinematics(x, y, 0)\n",
    "print(f\"x(0) = {x}\\nv(0) = {v}\\na(0) = {a}\")"
   ]
  },
  {
   "cell_type": "code",
   "execution_count": 45,
   "id": "246ad137",
   "metadata": {},
   "outputs": [
    {
     "data": {
      "text/plain": [
       "1"
      ]
     },
     "execution_count": 45,
     "metadata": {},
     "output_type": "execute_result"
    }
   ],
   "source": [
    "# Exercise 2.36 Express a step function as a python function.\n",
    "def H(x):\n",
    "    if x < 0:\n",
    "        return 0\n",
    "    elif x >= 0:\n",
    "        return 1\n",
    "H(0)"
   ]
  },
  {
   "cell_type": "code",
   "execution_count": 46,
   "id": "777e70ca",
   "metadata": {},
   "outputs": [],
   "source": [
    "# Exercise 2.37 Rewrite a mathematical function.\n",
    "def L(x,n):\n",
    "    s = 0\n",
    "    for i in range(1,n+1):\n",
    "        s += (1.0/i)*(x/(1.0+x))**i\n",
    "    value_of_sum = s\n",
    "    first_neglected_term = (1.0/(n+1))*(x/(1.0+x))**(n+1)\n",
    "    exact_error = mt.log(1+x) - value_of_sum\n",
    "    return(value_of_sum,first_neglected_term,exact_error)\n",
    "def L2(x, epsilon=1.0E-6):\n",
    "    x = float(x)\n",
    "    i = 1\n",
    "    term = (1.0/i)*(x/(1+x))**i\n",
    "    s = term\n",
    "    while abs(term)>epsilon:\n",
    "        i+=1\n",
    "        term = (1.0/i)*(x/(1+x))**i\n",
    "        s += term\n",
    "    return(s,i)\n"
   ]
  },
  {
   "cell_type": "code",
   "execution_count": 47,
   "id": "c184f6a1",
   "metadata": {},
   "outputs": [],
   "source": [
    "# Exercise 2.38 Make a table for approximations of cosx.\n"
   ]
  },
  {
   "cell_type": "code",
   "execution_count": 48,
   "id": "1f24aae2",
   "metadata": {},
   "outputs": [
    {
     "name": "stdout",
     "output_type": "stream",
     "text": [
      "[1, -3, 2]\n"
     ]
    }
   ],
   "source": [
    "def polynomial(roots):\n",
    "    p1 = [1, -roots[0]]\n",
    "    for i in range(1, len(roots)):\n",
    "        p2 = [1, -roots[i]]\n",
    "        polynomial = multiply_polynomials(p1,p2)\n",
    "    return polynomial\n",
    "\n",
    "def multiply_polynomials(p1, p2):\n",
    "    roots = [0] * (len(p1) + len(p2) - 1)\n",
    "    for i in range(len(p1)):\n",
    "        for j in range(len(p2)):\n",
    "            roots[i + j] += p1[i] * p2[j]\n",
    "    return roots\n",
    "\n",
    "r = [1, 2]\n",
    "R = polynomial(r)    \n",
    "print(R)"
   ]
  },
  {
   "cell_type": "code",
   "execution_count": 49,
   "id": "20dc745f",
   "metadata": {},
   "outputs": [
    {
     "name": "stdout",
     "output_type": "stream",
     "text": [
      "[1, 2, 3, 4, [0, 1, 2, 3]]\n"
     ]
    }
   ],
   "source": [
    "a = []\n",
    "\n",
    "for i in range(0,5):\n",
    "    if i<=3:\n",
    "        a.append(i+1)\n",
    "        continue\n",
    "    elif i == 4:\n",
    "        l = [e for e in range(0,4)]\n",
    "        a.append(l)\n",
    "    \n",
    "print(a)"
   ]
  },
  {
   "cell_type": "code",
   "execution_count": 50,
   "id": "31718341",
   "metadata": {},
   "outputs": [],
   "source": [
    "b=[1,2,3,4,[0,1,2,3]]"
   ]
  },
  {
   "cell_type": "code",
   "execution_count": null,
   "id": "c040979c",
   "metadata": {},
   "outputs": [],
   "source": []
  },
  {
   "cell_type": "code",
   "execution_count": null,
   "id": "6ccad94a",
   "metadata": {},
   "outputs": [],
   "source": []
  }
 ],
 "metadata": {
  "kernelspec": {
   "display_name": "Python 3",
   "language": "python",
   "name": "python3"
  },
  "language_info": {
   "codemirror_mode": {
    "name": "ipython",
    "version": 3
   },
   "file_extension": ".py",
   "mimetype": "text/x-python",
   "name": "python",
   "nbconvert_exporter": "python",
   "pygments_lexer": "ipython3",
   "version": "3.8.8"
  }
 },
 "nbformat": 4,
 "nbformat_minor": 5
}
